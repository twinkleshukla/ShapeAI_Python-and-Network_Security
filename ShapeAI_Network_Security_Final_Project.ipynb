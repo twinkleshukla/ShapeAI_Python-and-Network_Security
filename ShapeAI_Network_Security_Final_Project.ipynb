{
  "nbformat": 4,
  "nbformat_minor": 0,
  "metadata": {
    "colab": {
      "name": "ShapeAI_Network_Security_Final-Project.ipynb",
      "provenance": [],
      "collapsed_sections": []
    },
    "kernelspec": {
      "name": "python3",
      "display_name": "Python 3"
    },
    "language_info": {
      "name": "python"
    }
  },
  "cells": [
    {
      "cell_type": "code",
      "metadata": {
        "id": "poTTxi720n0_"
      },
      "source": [
        "import hashlib"
      ],
      "execution_count": 1,
      "outputs": []
    },
    {
      "cell_type": "markdown",
      "metadata": {
        "id": "LpUKVO9j8XSs"
      },
      "source": [
        "PROJECT 1:\n",
        "WRITE A PROGRAM IN PYTHON TO GENERATE MD5 OF STRING DATA.\n",
        "\n",
        "PROJECT 2:\n",
        "WRITE A PROGRAM IN PYTHON TO GENERATE HASHES OF GIVEN STRING USING 3 ALGORITHMS FROM hashlib."
      ]
    },
    {
      "cell_type": "code",
      "metadata": {
        "colab": {
          "base_uri": "https://localhost:8080/"
        },
        "id": "DvQcOsEe2nkH",
        "outputId": "07741ec7-3479-427c-b6c0-d7fbfc369592"
      },
      "source": [
        "def md5_func():\n",
        "  data=input('Enter String To be Hashed Using Message Digest 5(MD5) ALgorithm-->') #taking i/p from user\n",
        "  encoded=data.encode(\"utf-8\") \n",
        "  #utf- 8 is a format in the Unicode coding system that uses from one to four bytes.\n",
        "  # When coding the English language, only one byte is used per character like regular ASCII encoding. \n",
        "\n",
        "  hashvalue=hashlib.md5(encoded) #md5\n",
        "  hexvalue=hashvalue.hexdigest()\n",
        "  print(hexvalue)\n",
        "  return\n",
        "\n",
        "md5_func()\n",
        "\n",
        "def SHA256_func():\n",
        "  data=input('Enter Sting To be Hashed Using Secure Hash Algorithm-256(SHA-256)-->')\n",
        "  encoded=data.encode(\"utf-8\") \n",
        "  #utf- 8 is a format in the Unicode coding system that uses from one to four bytes.\n",
        "  # When coding the English language, only one byte is used per character like regular ASCII encoding. \n",
        "\n",
        "  hashvalue=hashlib.sha256(encoded) #sha256\n",
        "  hexvalue=hashvalue.hexdigest()\n",
        "  print(hexvalue)\n",
        "  return\n",
        "\n",
        "SHA256_func()\n",
        "\n",
        "def SHA512_func():\n",
        "  data=input('Enter Sting To be Hashed Using Secure Hash Algorithm-512(SHA-512)-->')\n",
        "  encoded=data.encode(\"utf-8\") \n",
        "  #utf- 8 is a format in the Unicode coding system that uses from one to four bytes.\n",
        "  # When coding the English language, only one byte is used per character like regular ASCII encoding. \n",
        "\n",
        "  hashvalue=hashlib.sha512(encoded) #sha512\n",
        "  hexvalue=hashvalue.hexdigest()\n",
        "  print(hexvalue)\n",
        "  return\n",
        "  \n",
        "SHA512_func()\n",
        "\n",
        "def SHA384_func():\n",
        "  data=input('Enter Sting To be Hashed Using Secure Hash Algorithm-384(SHA-384)-->')\n",
        "  encoded=data.encode(\"utf-8\") \n",
        "  #utf- 8 is a format in the Unicode coding system that uses from one to four bytes.\n",
        "  # When coding the English language, only one byte is used per character like regular ASCII encoding. \n",
        "\n",
        "  hashvalue=hashlib.sha384(encoded) #sha384\n",
        "  hexvalue=hashvalue.hexdigest()\n",
        "  print(hexvalue)\n",
        "  return\n",
        "  \n",
        "SHA384_func()\n",
        "\n",
        "\n"
      ],
      "execution_count": 8,
      "outputs": [
        {
          "output_type": "stream",
          "text": [
            "Enter String To be Hashed Using Message Digest 5(MD5) ALgorithm-->twinkle shukla\n",
            "db99637caaffdde95d7532cc07808d3c\n",
            "Enter Sting To be Hashed Using Secure Hash Algorithm-256(SHA-256)-->twinkle shukla\n",
            "50320e5ecad2adc2ddd9d74141ad969a7b64743cbdb82f514edf9bfe2f6003eb\n",
            "Enter Sting To be Hashed Using Secure Hash Algorithm-512(SHA-512)-->twinkle shukla\n",
            "1d6d9317ebe35a3378f3033d450027ee8dd02af4d9cf7dd129df3f56343640b334019a7de1dac6f7a91bb56711146e84e9aae7ef5511e61803fcb0f16e8798ee\n",
            "Enter Sting To be Hashed Using Secure Hash Algorithm-384(SHA-384)-->twinkle shukla\n",
            "fbf02f6d3c249120c56075f057585bae02b219a6cbe107bab936ced744d7c623136b87c99927fca4d91055b607a9c804\n"
          ],
          "name": "stdout"
        }
      ]
    },
    {
      "cell_type": "markdown",
      "metadata": {
        "id": "lT3O0Kba9MTd"
      },
      "source": [
        "PROJECT 3: ADD SALTING AND ITERATIONS TO YOUR HASHES.\n",
        "\n",
        "\n",
        "\n",
        "\n",
        ">**PBKDF2 is a key derivation function** where the user can set the computational cost; this aims to slow down the calculation of the key to making it more impractical to brute force. \n",
        "\n",
        "> In usage terms, it takes a password, salt and a number of iterations to produce a certain key length which can also be compared to a hash as it is also a one-way function.\n",
        "\n",
        "\n",
        "\n",
        ">**PBKDF2_HMAC is an implementation of the PBKDF2 key derivation function** using HMAC as pseudorandom function. \n",
        "\n",
        "\n",
        "\n",
        "> pbkdf2_hmac can be found in the hashlib library\n",
        "\n",
        "\n",
        "\n",
        "\n",
        "\n",
        "> pbkdf2_hmac takes five parameters:\n",
        "\n",
        "\n",
        "\n",
        "1.   hash_name: hash digest algorithm for HMAC\n",
        "2.   password: the password being turned into the key\n",
        "3.   salt: a randomly generated salt\n",
        "4.   iterations: iterations in the calculation (higher means more computation required)\n",
        "5.   dklen: length of the output key (not required)\n",
        "\n",
        "\n",
        "\n",
        "\n",
        "\n",
        "\n",
        "\n",
        "\n",
        "\n",
        "\n",
        "\n"
      ]
    },
    {
      "cell_type": "code",
      "metadata": {
        "colab": {
          "base_uri": "https://localhost:8080/"
        },
        "id": "j_86J4tn3QWb",
        "outputId": "edaa77be-c6d9-40d6-8f3d-9e9eb7227b30"
      },
      "source": [
        "import hashlib\n",
        "import os\n",
        "\n",
        "users = {} # A simple demo storage\n",
        "\n",
        "# Add a user\n",
        "username = input('Enter First UserName-->')\n",
        "password = input('Enter FirstUser Password-->')\n",
        "\n",
        "salt = os.urandom(32) # A new salt for this user\n",
        "\n",
        "key = hashlib.pbkdf2_hmac('sha256', password.encode('utf-8'), salt, 100000)\n",
        "print('Correct key',key)\n",
        "\n",
        "users[username] = { # Store the salt and key\n",
        "    'salt': salt,\n",
        "    'key': key\n",
        "}\n",
        "\n",
        "# Verification attempt 1 (incorrect password)\n",
        "username = input('Enter Previously Entered UserName-->')\n",
        "password = input('Enter Wrong PAssword To Verify PreviouslyEnterd User-->')\n",
        "\n",
        "salt = users[username]['salt'] # Get the salt\n",
        "key = users[username]['key'] # Get the correct key\n",
        "\n",
        "new_key = hashlib.pbkdf2_hmac('sha256', password.encode('utf-8'), salt, 100000)\n",
        "print('Inccorect key',new_key)\n",
        "\n",
        "assert key != new_key # The keys are not the same thus the passwords were not the same\n",
        "\n",
        "# Verification attempt 2 (correct password)\n",
        "username = input('Enter Previously Entered UserNAme-->')\n",
        "password = input('Enter Correct PAsswrod To Verify-->')\n",
        "\n",
        "salt = users[username]['salt']\n",
        "key = users[username]['key']\n",
        "new_key = hashlib.pbkdf2_hmac('sha256', password.encode('utf-8'), salt, 100000)\n",
        "print('printing correct key',new_key)\n",
        "\n",
        "assert key == new_key # The keys are the same thus the passwords were the same\n",
        "\n",
        "# Adding a different user\n",
        "username = input('Enter Different User-->')\n",
        "password = input('Enter Password For Different USer-->')\n",
        "\n",
        "salt = os.urandom(32) # A new salt for this user\n",
        "key = hashlib.pbkdf2_hmac('sha256', password.encode('utf-8'), salt, 100000)\n",
        "print('Key of diiferent user will display as:',key)\n",
        "users[username] = {\n",
        "    'salt': salt,\n",
        "    'key': key\n",
        "}\n",
        "\n",
        "# Checking the other users password\n",
        "username = input('Enter Differet UserNAme-->')\n",
        "password = input('Enter Password For Different User-->')\n",
        "\n",
        "salt = users[username]['salt']\n",
        "key = users[username]['key']\n",
        "new_key = hashlib.pbkdf2_hmac('sha256', password.encode('utf-8'), salt, 100000)\n",
        "print(new_key)\n",
        "\n",
        "assert key == new_key # The keys are the same thus the passwords were the same for this user also\n",
        "    \n"
      ],
      "execution_count": 27,
      "outputs": [
        {
          "output_type": "stream",
          "text": [
            "Enter First UserName-->twinkle shukla\n",
            "Enter FirstUser Password-->twinkle@123\n",
            "Correct key b'\\x01\\xbc\\xd0\\x92\\x98\\x99\\x1f\\x08\\x9aU\\xa8\\xa1\\xc5=\\xe0\\xf9\\xfdef\\xc7T_\\xdb\\x1a\\xf9\\xd8j\\xd5\\xe2\\xf1g\\xa3'\n",
            "Enter Previously Entered UserName-->twinkle shukla\n",
            "Enter Wrong PAssword To Verify PreviouslyEnterd User-->twinkle@456\n",
            "Inccorect key b'\\xa4\\xf3W\\xd5\\xb2`\\xd33\\x8c\\xd5\\x9b\\x15\"\\x88\\x8f\\xfeO\\xdc)\\x03Y\\x9fB*\\xc1\\xba\\xf4\\xf8\\xf3\\x82\\xef\\x91'\n",
            "Enter Previously Entered UserNAme-->twinkle shukla\n",
            "Enter Correct PAsswrod To Verify-->twinkle@123\n",
            "printing correct key b'\\x01\\xbc\\xd0\\x92\\x98\\x99\\x1f\\x08\\x9aU\\xa8\\xa1\\xc5=\\xe0\\xf9\\xfdef\\xc7T_\\xdb\\x1a\\xf9\\xd8j\\xd5\\xe2\\xf1g\\xa3'\n",
            "Enter Different User-->cyber\n",
            "Enter Password For Different USer-->security\n",
            "Key of diiferent user will display as: b'U=44T\\xbc\\xdb\\r\\xa3\\x8f\\x87a\\xa5\\\\\\x92\\x15\\xdd\\x0fu}\\xe7\\x96P\\xf7\\xec\\xc4>jSp\\xc5o'\n",
            "Enter Differet UserNAme-->cyber\n",
            "Enter Password For Different User-->security\n",
            "b'U=44T\\xbc\\xdb\\r\\xa3\\x8f\\x87a\\xa5\\\\\\x92\\x15\\xdd\\x0fu}\\xe7\\x96P\\xf7\\xec\\xc4>jSp\\xc5o'\n"
          ],
          "name": "stdout"
        }
      ]
    }
  ]
}